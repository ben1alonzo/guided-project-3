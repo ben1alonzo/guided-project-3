{
 "cells": [
  {
   "cell_type": "code",
   "execution_count": 1,
   "metadata": {},
   "outputs": [],
   "source": [
    "#Imports\n",
    "import pandas as pd\n",
    "import numpy as np"
   ]
  },
  {
   "cell_type": "code",
   "execution_count": 4,
   "metadata": {},
   "outputs": [
    {
     "name": "stdout",
     "output_type": "stream",
     "text": [
      "             timestamp  unit_id     unit_type  location_x  location_y  \\\n",
      "0  2023-06-13 17:33:18        1         at-st         2.0         8.0   \n",
      "1  2023-06-13 17:33:17        2  tie_silencer         4.0         4.0   \n",
      "2  2023-06-13 17:33:16        3         at-at         0.0         3.0   \n",
      "3  2023-06-13 17:33:15        4  tie_silencer         6.0         1.0   \n",
      "4  2023-06-13 17:33:14        5   tie_fighter         0.0         4.0   \n",
      "\n",
      "   destination_x  destination_y    homeworld  \n",
      "0              1              1  Glee Anselm  \n",
      "1              0              1    Trandosha  \n",
      "2              6              1     Corellia  \n",
      "3              6              9        Shili  \n",
      "4              9              6   Muunilinst  \n"
     ]
    }
   ],
   "source": [
    "#Read and print data\n",
    "data = pd.read_csv('../troop_movements10m.csv')\n",
    "print(data.head())"
   ]
  },
  {
   "cell_type": "code",
   "execution_count": null,
   "metadata": {},
   "outputs": [],
   "source": []
  }
 ],
 "metadata": {
  "kernelspec": {
   "display_name": "Python 3",
   "language": "python",
   "name": "python3"
  },
  "language_info": {
   "codemirror_mode": {
    "name": "ipython",
    "version": 3
   },
   "file_extension": ".py",
   "mimetype": "text/x-python",
   "name": "python",
   "nbconvert_exporter": "python",
   "pygments_lexer": "ipython3",
   "version": "3.12.3"
  }
 },
 "nbformat": 4,
 "nbformat_minor": 2
}
