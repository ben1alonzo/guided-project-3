{
 "cells": [
  {
   "cell_type": "code",
   "execution_count": 1,
   "metadata": {},
   "outputs": [],
   "source": [
    "#Imports\n",
    "import pandas as pd\n",
    "import numpy as np"
   ]
  },
  {
   "cell_type": "code",
   "execution_count": 3,
   "metadata": {},
   "outputs": [
    {
     "name": "stdout",
     "output_type": "stream",
     "text": [
      "             timestamp  unit_id           unit_type empire_or_resistance  \\\n",
      "0  2024-05-21 08:24:55        1              x-wing           resistance   \n",
      "1  2024-05-21 08:24:54        2               at-st               empire   \n",
      "2  2024-05-21 08:24:53        3  resistance_soldier           resistance   \n",
      "3  2024-05-21 08:24:52        4        tie_silencer           resistance   \n",
      "4  2024-05-21 08:24:51        5         tie_fighter               empire   \n",
      "\n",
      "   location_x  location_y  destination_x  destination_y  homeworld  \n",
      "0           7           4              3              6      Shili  \n",
      "1           3          10              8              5  Malastare  \n",
      "2           6           8              9              8   Alderaan  \n",
      "3           9           8              5             10  Trandosha  \n",
      "4           8          10              1              4       Ojom  \n"
     ]
    }
   ],
   "source": [
    "#Read and print data\n",
    "troop_movements_df = pd.read_csv('../troop_movements.csv')\n",
    "print(troop_movements_df.head())"
   ]
  },
  {
   "cell_type": "code",
   "execution_count": 4,
   "metadata": {},
   "outputs": [
    {
     "name": "stdout",
     "output_type": "stream",
     "text": [
      "  empire_or_resistance  count\n",
      "0               empire    512\n",
      "1           resistance    488\n"
     ]
    }
   ],
   "source": [
    "# Create grouped data showing counts of empire vs resistance.\n",
    "empire_vs_resistance = troop_movements_df['empire_or_resistance'].value_counts().reset_index()\n",
    "empire_vs_resistance.columns = ['empire_or_resistance', 'count']\n",
    "print(empire_vs_resistance)"
   ]
  },
  {
   "cell_type": "code",
   "execution_count": 5,
   "metadata": {},
   "outputs": [
    {
     "name": "stdout",
     "output_type": "stream",
     "text": [
      "       homeworld  count\n",
      "0         Umbara     31\n",
      "1       Tatooine     31\n",
      "2        Troiken     30\n",
      "3       Alderaan     30\n",
      "4    Aleen Minor     30\n",
      "5       Dathomir     30\n",
      "6         Mirial     29\n",
      "7        Stewjon     29\n",
      "8      Malastare     28\n",
      "9           Tund     28\n",
      "10      Champala     28\n",
      "11         Zolan     27\n",
      "12      Kashyyyk     27\n",
      "13     Chandrila     26\n",
      "14        Ryloth     26\n",
      "15        Eriadu     25\n",
      "16  Concord Dawn     25\n",
      "17       Socorro     25\n",
      "18    Bestine IV     24\n",
      "19      Corellia     24\n",
      "20       Tholoth     24\n",
      "21       Quermia     24\n",
      "22         Shili     24\n",
      "23         Rodia     23\n",
      "24      Mon Cala     23\n",
      "25         Cerea     23\n",
      "26       Dagobah     23\n",
      "27         Dorin     22\n",
      "28      Toydaria     22\n",
      "29      Iridonia     21\n",
      "30   Glee Anselm     21\n",
      "31          Ojom     20\n",
      "32       Sullust     20\n",
      "33       Serenno     20\n",
      "34       Iktotch     19\n",
      "35    Muunilinst     19\n",
      "36         Kalee     19\n",
      "37         Naboo     18\n",
      "38       Vulpter     16\n",
      "39         Skako     16\n",
      "40    Haruun Kal     15\n",
      "41     Trandosha     15\n"
     ]
    }
   ],
   "source": [
    "# Create grouped data showing counts of characters by homeworld\n",
    "homeworld_counts = troop_movements_df['homeworld'].value_counts().reset_index()\n",
    "homeworld_counts.columns = ['homeworld', 'count']\n",
    "print(homeworld_counts)"
   ]
  },
  {
   "cell_type": "code",
   "execution_count": 7,
   "metadata": {},
   "outputs": [
    {
     "name": "stdout",
     "output_type": "stream",
     "text": [
      "            unit_type  count\n",
      "0  resistance_soldier    142\n",
      "1        tie_silencer    138\n",
      "2               at-at    128\n",
      "3         tie_fighter    120\n",
      "4             unknown    120\n",
      "5        stormtrooper    118\n",
      "6              x-wing    117\n",
      "7               at-st    117\n"
     ]
    }
   ],
   "source": [
    "# Created grouped data showing counts of characters by unit_type.\n",
    "unit_type_counts = troop_movements_df['unit_type'].value_counts().reset_index()\n",
    "unit_type_counts.columns = ['unit_type', 'count']\n",
    "print(unit_type_counts)"
   ]
  },
  {
   "cell_type": "code",
   "execution_count": 9,
   "metadata": {},
   "outputs": [
    {
     "name": "stdout",
     "output_type": "stream",
     "text": [
      "             timestamp  unit_id           unit_type empire_or_resistance  \\\n",
      "0  2024-05-21 08:24:55        1              x-wing           resistance   \n",
      "1  2024-05-21 08:24:54        2               at-st               empire   \n",
      "2  2024-05-21 08:24:53        3  resistance_soldier           resistance   \n",
      "3  2024-05-21 08:24:52        4        tie_silencer           resistance   \n",
      "4  2024-05-21 08:24:51        5         tie_fighter               empire   \n",
      "\n",
      "   location_x  location_y  destination_x  destination_y  homeworld  \\\n",
      "0           7           4              3              6      Shili   \n",
      "1           3          10              8              5  Malastare   \n",
      "2           6           8              9              8   Alderaan   \n",
      "3           9           8              5             10  Trandosha   \n",
      "4           8          10              1              4       Ojom   \n",
      "\n",
      "   is_resistance  \n",
      "0           True  \n",
      "1          False  \n",
      "2           True  \n",
      "3           True  \n",
      "4          False  \n"
     ]
    }
   ],
   "source": [
    "# Engineer a new feature called is_resistance with a True or False value based on empire_or_resiatance.\n",
    "troop_movements_df['is_resistance'] = troop_movements_df['empire_or_resistance'] == 'resistance'\n",
    "print(troop_movements_df.head())"
   ]
  },
  {
   "cell_type": "code",
   "execution_count": 17,
   "metadata": {},
   "outputs": [
    {
     "data": {
      "image/png": "[encoded data removed]",
      "text/plain": [
       "<Figure size 1000x600 with 1 Axes>"
      ]
     },
     "metadata": {},
     "output_type": "display_data"
    }
   ],
   "source": [
    "# Create a bar plot using Seaborn showing Empire vs Resistance distribution.\n",
    "import matplotlib.pyplot as plt\n",
    "import seaborn as sns\n",
    "\n",
    "plt.style.use(\"seaborn-v0_8-whitegrid\")\n",
    "plt.figure(figsize=(10, 6))\n",
    "sns.barplot(x='empire_or_resistance', y='count', data=empire_vs_resistance)\n",
    "plt.title('Empire vs Resistance Distribution')\n",
    "plt.xlabel('Faction')\n",
    "plt.ylabel('Count')\n",
    "plt.show()"
   ]
  },
  {
   "cell_type": "code",
   "execution_count": 21,
   "metadata": {},
   "outputs": [
    {
     "name": "stdout",
     "output_type": "stream",
     "text": [
      "Model Accuracy: 0.455\n"
     ]
    }
   ],
   "source": [
    "from sklearn.model_selection import train_test_split\n",
    "from sklearn.tree import DecisionTreeClassifier\n",
    "from sklearn.metrics import accuracy_score\n",
    "\n",
    "X = troop_movements_df[['unit_type', 'homeworld']]\n",
    "X_encoded = pd.get_dummies(X, columns=['unit_type', 'homeworld'])\n",
    "y = troop_movements_df['empire_or_resistance']\n",
    "\n",
    "# Create training and testing sets\n",
    "X_train, X_test, y_train, y_test = train_test_split(X_encoded, y, test_size=0.2, random_state=42)\n",
    "\n",
    "# Initialize the DecisionTreeClassifier and fit the data\n",
    "decision_tree = DecisionTreeClassifier(random_state=42)\n",
    "decision_tree.fit(X_train, y_train)\n",
    "\n",
    "y_pred = decision_tree.predict(X_test)\n",
    "\n",
    "# Calculate accurace score\n",
    "accuracy = accuracy_score(y_test, y_pred)\n",
    "print(\"Model Accuracy: \" + str(accuracy))"
   ]
  },
  {
   "cell_type": "code",
   "execution_count": 23,
   "metadata": {},
   "outputs": [
    {
     "ename": "AttributeError",
     "evalue": "'DataFrame' object has no attribute 'feature_importances_'",
     "output_type": "error",
     "traceback": [
      "\u001b[1;31m---------------------------------------------------------------------------\u001b[0m",
      "\u001b[1;31mAttributeError\u001b[0m                            Traceback (most recent call last)",
      "\u001b[1;32m~\\AppData\\Local\\Temp\\2\\ipykernel_3408\\1891742462.py\u001b[0m in \u001b[0;36m?\u001b[1;34m()\u001b[0m\n\u001b[0;32m      1\u001b[0m \u001b[1;31m# Get feature importances\u001b[0m\u001b[1;33m\u001b[0m\u001b[1;33m\u001b[0m\u001b[0m\n\u001b[1;32m----> 2\u001b[1;33m \u001b[0mimportances\u001b[0m \u001b[1;33m=\u001b[0m \u001b[0mtroop_movements_df\u001b[0m\u001b[1;33m.\u001b[0m\u001b[0mfeature_importances_\u001b[0m\u001b[1;33m\u001b[0m\u001b[1;33m\u001b[0m\u001b[0m\n\u001b[0m\u001b[0;32m      3\u001b[0m \u001b[1;33m\u001b[0m\u001b[0m\n\u001b[0;32m      4\u001b[0m \u001b[1;31m# Create a DataFrame to hold the feature importances\u001b[0m\u001b[1;33m\u001b[0m\u001b[1;33m\u001b[0m\u001b[0m\n\u001b[0;32m      5\u001b[0m \u001b[0mfeature_importances\u001b[0m \u001b[1;33m=\u001b[0m \u001b[0mpd\u001b[0m\u001b[1;33m.\u001b[0m\u001b[0mDataFrame\u001b[0m\u001b[1;33m(\u001b[0m\u001b[1;33m{\u001b[0m\u001b[1;34m'Feature'\u001b[0m\u001b[1;33m:\u001b[0m \u001b[0mX_encoded\u001b[0m\u001b[1;33m.\u001b[0m\u001b[0mcolumns\u001b[0m\u001b[1;33m,\u001b[0m \u001b[1;34m'Importance'\u001b[0m\u001b[1;33m:\u001b[0m \u001b[0mimportances\u001b[0m\u001b[1;33m}\u001b[0m\u001b[1;33m)\u001b[0m\u001b[1;33m\u001b[0m\u001b[1;33m\u001b[0m\u001b[0m\n",
      "\u001b[1;32m~\\AppData\\Roaming\\Python\\Python312\\site-packages\\pandas\\core\\generic.py\u001b[0m in \u001b[0;36m?\u001b[1;34m(self, name)\u001b[0m\n\u001b[0;32m   6295\u001b[0m             \u001b[1;32mand\u001b[0m \u001b[0mname\u001b[0m \u001b[1;32mnot\u001b[0m \u001b[1;32min\u001b[0m \u001b[0mself\u001b[0m\u001b[1;33m.\u001b[0m\u001b[0m_accessors\u001b[0m\u001b[1;33m\u001b[0m\u001b[1;33m\u001b[0m\u001b[0m\n\u001b[0;32m   6296\u001b[0m             \u001b[1;32mand\u001b[0m \u001b[0mself\u001b[0m\u001b[1;33m.\u001b[0m\u001b[0m_info_axis\u001b[0m\u001b[1;33m.\u001b[0m\u001b[0m_can_hold_identifiers_and_holds_name\u001b[0m\u001b[1;33m(\u001b[0m\u001b[0mname\u001b[0m\u001b[1;33m)\u001b[0m\u001b[1;33m\u001b[0m\u001b[1;33m\u001b[0m\u001b[0m\n\u001b[0;32m   6297\u001b[0m         \u001b[1;33m)\u001b[0m\u001b[1;33m:\u001b[0m\u001b[1;33m\u001b[0m\u001b[1;33m\u001b[0m\u001b[0m\n\u001b[0;32m   6298\u001b[0m             \u001b[1;32mreturn\u001b[0m \u001b[0mself\u001b[0m\u001b[1;33m[\u001b[0m\u001b[0mname\u001b[0m\u001b[1;33m]\u001b[0m\u001b[1;33m\u001b[0m\u001b[1;33m\u001b[0m\u001b[0m\n\u001b[1;32m-> 6299\u001b[1;33m         \u001b[1;32mreturn\u001b[0m \u001b[0mobject\u001b[0m\u001b[1;33m.\u001b[0m\u001b[0m__getattribute__\u001b[0m\u001b[1;33m(\u001b[0m\u001b[0mself\u001b[0m\u001b[1;33m,\u001b[0m \u001b[0mname\u001b[0m\u001b[1;33m)\u001b[0m\u001b[1;33m\u001b[0m\u001b[1;33m\u001b[0m\u001b[0m\n\u001b[0m",
      "\u001b[1;31mAttributeError\u001b[0m: 'DataFrame' object has no attribute 'feature_importances_'"
     ]
    }
   ],
   "source": [
    "# Get feature importances\n",
    "importances = troop_movements_df.feature_importances_\n",
    "\n",
    "# Create a DataFrame to hold the feature importances\n",
    "feature_importances = pd.DataFrame({'Feature': X_encoded.columns, 'Importance': importances})\n"
   ]
  },
  {
   "cell_type": "code",
   "execution_count": null,
   "metadata": {},
   "outputs": [],
   "source": []
  }
 ],
 "metadata": {
  "kernelspec": {
   "display_name": "Python 3",
   "language": "python",
   "name": "python3"
  },
  "language_info": {
   "codemirror_mode": {
    "name": "ipython",
    "version": 3
   },
   "file_extension": ".py",
   "mimetype": "text/x-python",
   "name": "python",
   "nbconvert_exporter": "python",
   "pygments_lexer": "ipython3",
   "version": "3.12.3"
  }
 },
 "nbformat": 4,
 "nbformat_minor": 2
}
