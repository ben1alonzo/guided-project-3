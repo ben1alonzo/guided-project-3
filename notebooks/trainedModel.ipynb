{
 "cells": [
  {
   "cell_type": "code",
   "execution_count": 1,
   "metadata": {},
   "outputs": [],
   "source": [
    "#Initial imports\n",
    "import pandas as pd\n",
    "import numpy as np"
   ]
  },
  {
   "cell_type": "code",
   "execution_count": 2,
   "metadata": {},
   "outputs": [
    {
     "name": "stdout",
     "output_type": "stream",
     "text": [
      "             timestamp  unit_id     unit_type  location_x  location_y  \\\n",
      "0  2023-06-13 17:33:18        1         at-st         2.0         8.0   \n",
      "1  2023-06-13 17:33:17        2  tie_silencer         4.0         4.0   \n",
      "2  2023-06-13 17:33:16        3         at-at         0.0         3.0   \n",
      "3  2023-06-13 17:33:15        4  tie_silencer         6.0         1.0   \n",
      "4  2023-06-13 17:33:14        5   tie_fighter         0.0         4.0   \n",
      "\n",
      "   destination_x  destination_y    homeworld  \n",
      "0              1              1  Glee Anselm  \n",
      "1              0              1    Trandosha  \n",
      "2              6              1     Corellia  \n",
      "3              6              9        Shili  \n",
      "4              9              6   Muunilinst  \n"
     ]
    }
   ],
   "source": [
    "#Read file into a frame\n",
    "troop_movements_10m_df = pd.read_csv('../troop_movements10m.csv')\n",
    "print(troop_movements_10m_df.head(10))"
   ]
  },
  {
   "cell_type": "code",
   "execution_count": 3,
   "metadata": {},
   "outputs": [],
   "source": [
    "#Replacing invalid_unit enrtries with unknown\n",
    "troop_movements_10m_df['unit_type'] = troop_movements_10m_df['unit_type'].replace('invalid_unit', 'unknown')"
   ]
  },
  {
   "cell_type": "code",
   "execution_count": 9,
   "metadata": {},
   "outputs": [
    {
     "name": "stderr",
     "output_type": "stream",
     "text": [
      "C:\\Users\\wasadmin\\AppData\\Local\\Temp\\2\\ipykernel_5508\\2929651041.py:2: FutureWarning: Series.fillna with 'method' is deprecated and will raise in a future version. Use obj.ffill() or obj.bfill() instead.\n",
      "  troop_movements_10m_df['location_x'] = troop_movements_10m_df['location_x'].fillna(method='ffill')\n"
     ]
    }
   ],
   "source": [
    "#Fix missing location_x values\n",
    "troop_movements_10m_df['location_x'] = troop_movements_10m_df['location_x'].fillna(method='ffill')"
   ]
  },
  {
   "cell_type": "code",
   "execution_count": 10,
   "metadata": {},
   "outputs": [
    {
     "name": "stderr",
     "output_type": "stream",
     "text": [
      "C:\\Users\\wasadmin\\AppData\\Local\\Temp\\2\\ipykernel_5508\\1753598300.py:2: FutureWarning: Series.fillna with 'method' is deprecated and will raise in a future version. Use obj.ffill() or obj.bfill() instead.\n",
      "  troop_movements_10m_df['location_y'] = troop_movements_10m_df['location_y'].fillna(method='ffill')\n"
     ]
    }
   ],
   "source": [
    "#Fix missing location_y values\n",
    "troop_movements_10m_df['location_y'] = troop_movements_10m_df['location_y'].fillna(method='ffill')"
   ]
  },
  {
   "cell_type": "code",
   "execution_count": 11,
   "metadata": {},
   "outputs": [
    {
     "name": "stdout",
     "output_type": "stream",
     "text": [
      "Done!\n"
     ]
    }
   ],
   "source": [
    "#Save to parquet file\n",
    "parquet_file = 'troop_movements_10m_data.parquet'\n",
    "troop_movements_10m_df.to_parquet(parquet_file)\n",
    "print('Done!')"
   ]
  },
  {
   "cell_type": "code",
   "execution_count": null,
   "metadata": {},
   "outputs": [],
   "source": []
  }
 ],
 "metadata": {
  "kernelspec": {
   "display_name": "Python 3",
   "language": "python",
   "name": "python3"
  },
  "language_info": {
   "codemirror_mode": {
    "name": "ipython",
    "version": 3
   },
   "file_extension": ".py",
   "mimetype": "text/x-python",
   "name": "python",
   "nbconvert_exporter": "python",
   "pygments_lexer": "ipython3",
   "version": "3.12.3"
  }
 },
 "nbformat": 4,
 "nbformat_minor": 2
}
